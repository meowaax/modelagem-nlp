{
 "cells": [
  {
   "cell_type": "code",
   "execution_count": 2,
   "id": "5b01d8b4",
   "metadata": {},
   "outputs": [
    {
     "name": "stderr",
     "output_type": "stream",
     "text": [
      "Scraping articles:  12%|█▎        | 1/8 [00:00<00:03,  1.77it/s]"
     ]
    },
    {
     "name": "stdout",
     "output_type": "stream",
     "text": [
      "Coletado: Sean 'Diddy' Combs found not guilty of racketeering and sex trafficking but convicted of lesser charges\n"
     ]
    },
    {
     "name": "stderr",
     "output_type": "stream",
     "text": [
      "Scraping articles:  25%|██▌       | 2/8 [00:00<00:02,  2.31it/s]"
     ]
    },
    {
     "name": "stdout",
     "output_type": "stream",
     "text": [
      "Coletado: Sean 'Diddy' Combs's criminal conviction may not end his career\n"
     ]
    },
    {
     "name": "stderr",
     "output_type": "stream",
     "text": [
      "Scraping articles:  38%|███▊      | 3/8 [00:01<00:02,  2.01it/s]"
     ]
    },
    {
     "name": "stdout",
     "output_type": "stream",
     "text": [
      "Coletado: Sean \"Diddy\" Combs acquitted of sex trafficking and racketeering, convicted on prostitution-related counts\n"
     ]
    },
    {
     "name": "stderr",
     "output_type": "stream",
     "text": [
      "Scraping articles:  50%|█████     | 4/8 [00:02<00:02,  1.52it/s]"
     ]
    },
    {
     "name": "stdout",
     "output_type": "stream",
     "text": [
      "Coletado: Takeaways from the verdict in Sean ‘Diddy’ Combs’ federal sex trafficking trial\n"
     ]
    },
    {
     "name": "stderr",
     "output_type": "stream",
     "text": [
      "Scraping articles:  62%|██████▎   | 5/8 [00:02<00:01,  1.64it/s]"
     ]
    },
    {
     "name": "stdout",
     "output_type": "stream",
     "text": [
      "Coletado: What has Sean 'Diddy' Combs been convicted of?\n"
     ]
    },
    {
     "name": "stderr",
     "output_type": "stream",
     "text": [
      "Scraping articles:  75%|███████▌  | 6/8 [00:03<00:01,  1.92it/s]"
     ]
    },
    {
     "name": "stdout",
     "output_type": "stream",
     "text": [
      "Coletado: Sean ‘Diddy’ Combs not guilty of most serious charges but will remain in custody until sentencing\n"
     ]
    },
    {
     "name": "stderr",
     "output_type": "stream",
     "text": [
      "Scraping articles:  88%|████████▊ | 7/8 [00:03<00:00,  1.78it/s]"
     ]
    },
    {
     "name": "stdout",
     "output_type": "stream",
     "text": [
      "Coletado: Hip-hop mogul Sean 'Diddy' Combs acquitted on most serious charges in historic racketeering case\n"
     ]
    },
    {
     "name": "stderr",
     "output_type": "stream",
     "text": [
      "Scraping articles: 100%|██████████| 8/8 [00:04<00:00,  1.89it/s]"
     ]
    },
    {
     "name": "stdout",
     "output_type": "stream",
     "text": [
      "Coletado: Sean ‘Diddy’ Combs verdict: What was he found guilty of – and what’s next?\n",
      "Dados salvos em diddy_articles.csv\n"
     ]
    },
    {
     "name": "stderr",
     "output_type": "stream",
     "text": [
      "\n"
     ]
    }
   ],
   "source": [
    "import requests\n",
    "from bs4 import BeautifulSoup\n",
    "import pandas as pd\n",
    "from datetime import datetime\n",
    "from tqdm import tqdm\n",
    "\n",
    "def is_relevant(paragraph):\n",
    "    text = paragraph.lower()\n",
    "    blacklist = [\n",
    "        \"copyright\", \"all rights reserved\", \"newsletter\", \"podcast\", \"bbc sounds\",\n",
    "        \"read about our approach\", \"promotional content\", \"subscribe\", \"terms of use\",\n",
    "        \"privacy policy\", \"twitter\", \"instagram\", \"facebook\"\n",
    "    ]\n",
    "    return (\n",
    "        len(paragraph.strip()) > 40\n",
    "        and \"http\" not in paragraph\n",
    "        and \"www\" not in paragraph\n",
    "        and not any(bad in text for bad in blacklist)\n",
    "    )\n",
    "\n",
    "def scrape_article(url):\n",
    "    headers = {\n",
    "        \"User-Agent\": \"Mozilla/5.0 (Windows NT 10.0; Win64; x64) AppleWebKit/537.36 (KHTML, like Gecko) Chrome/120.0.0.0 Safari/537.36\"\n",
    "    }\n",
    "    try:\n",
    "        response = requests.get(url, headers=headers, timeout=15)\n",
    "        response.encoding = response.apparent_encoding  # Corrige encoding\n",
    "        response.raise_for_status()\n",
    "        soup = BeautifulSoup(response.text, \"html.parser\")\n",
    "        title = soup.find(\"h1\").get_text(strip=True) if soup.find(\"h1\") else \"\"\n",
    "        paragraphs = soup.find_all(\"p\")\n",
    "        para_list = [\n",
    "            p.get_text(strip=True)\n",
    "            for p in paragraphs\n",
    "            if is_relevant(p.get_text(strip=True))\n",
    "        ]\n",
    "        # Junta os parágrafos em uma única string, separados por espaço e remove espaços duplos\n",
    "        text = \" \".join(para_list).replace(\"  \", \" \").strip()\n",
    "        return {\n",
    "            \"title\": title,\n",
    "            \"text\": text\n",
    "        }\n",
    "    except Exception as e:\n",
    "        return {\n",
    "            \"title\": \"\",\n",
    "            \"text\": \"\"\n",
    "        }\n",
    "\n",
    "urls = [\n",
    "    \"https://www.nbcnews.com/news/us-news/jury-reaches-verdict-sean-diddy-combs-sex-trafficking-trial-rcna214785\",\n",
    "    \"https://www.abc.net.au/news/2025-07-14/sean-combs-p-diddy-conviction-what-happens-now/105522300\",\n",
    "    \"https://www.cbsnews.com/news/sean-diddy-combs-trial-verdict-jury/\",\n",
    "    \"https://www.cnn.com/2025/07/02/entertainment/recap-diddy-trial-verdict-charges\",\n",
    "    \"https://www.bbc.com/news/articles/c0qz32wzeego\",\n",
    "    \"https://www.latimes.com/california/story/2025-07-02/diddy-trial-jury-verdict\",\n",
    "    \"https://abcnews.go.com/US/Culture/sean-combs-guilty-2-5-counts-acquitted-racketeering/story?id=123019412\",\n",
    "    \"https://www.aljazeera.com/news/2025/7/2/what-is-the-partial-verdict-in-the-sean-diddy-combs\"\n",
    "]\n",
    "\n",
    "data = []\n",
    "for url in tqdm(urls, desc=\"Scraping articles\"):\n",
    "    result = scrape_article(url)\n",
    "    data.append(result)\n",
    "    if result[\"title\"]:\n",
    "        print(f\"Coletado: {result['title']}\")\n",
    "    else:\n",
    "        print(f\"Erro ao coletar artigo.\")\n",
    "\n",
    "df = pd.DataFrame(data)\n",
    "df.to_csv(\"diddy_articles.csv\", sep=',', index=False, encoding=\"utf-8\")\n",
    "print(\"Dados salvos em diddy_articles.csv\")"
   ]
  },
  {
   "cell_type": "code",
   "execution_count": 6,
   "id": "21790c30",
   "metadata": {},
   "outputs": [
    {
     "name": "stderr",
     "output_type": "stream",
     "text": [
      "Scraping articles:  12%|█▎        | 1/8 [00:01<00:09,  1.38s/it]"
     ]
    },
    {
     "name": "stdout",
     "output_type": "stream",
     "text": [
      "Coletado: NBCNEWS\n"
     ]
    },
    {
     "name": "stderr",
     "output_type": "stream",
     "text": [
      "Scraping articles:  25%|██▌       | 2/8 [00:02<00:07,  1.19s/it]"
     ]
    },
    {
     "name": "stdout",
     "output_type": "stream",
     "text": [
      "Coletado: ABC\n"
     ]
    },
    {
     "name": "stderr",
     "output_type": "stream",
     "text": [
      "Scraping articles:  38%|███▊      | 3/8 [00:03<00:04,  1.04it/s]"
     ]
    },
    {
     "name": "stdout",
     "output_type": "stream",
     "text": [
      "Coletado: CBSNEWS\n"
     ]
    },
    {
     "name": "stderr",
     "output_type": "stream",
     "text": [
      "Scraping articles:  50%|█████     | 4/8 [00:04<00:04,  1.03s/it]"
     ]
    },
    {
     "name": "stdout",
     "output_type": "stream",
     "text": [
      "Coletado: CNN\n"
     ]
    },
    {
     "name": "stderr",
     "output_type": "stream",
     "text": [
      "Scraping articles:  62%|██████▎   | 5/8 [00:04<00:02,  1.18it/s]"
     ]
    },
    {
     "name": "stdout",
     "output_type": "stream",
     "text": [
      "Coletado: BBC\n"
     ]
    },
    {
     "name": "stderr",
     "output_type": "stream",
     "text": [
      "Scraping articles:  75%|███████▌  | 6/8 [00:05<00:01,  1.30it/s]"
     ]
    },
    {
     "name": "stdout",
     "output_type": "stream",
     "text": [
      "Coletado: LATIMES\n"
     ]
    },
    {
     "name": "stderr",
     "output_type": "stream",
     "text": [
      "Scraping articles:  88%|████████▊ | 7/8 [00:06<00:00,  1.23it/s]"
     ]
    },
    {
     "name": "stdout",
     "output_type": "stream",
     "text": [
      "Coletado: ABCNEWS\n"
     ]
    },
    {
     "name": "stderr",
     "output_type": "stream",
     "text": [
      "Scraping articles: 100%|██████████| 8/8 [00:07<00:00,  1.05it/s]"
     ]
    },
    {
     "name": "stdout",
     "output_type": "stream",
     "text": [
      "Coletado: ALJAZEERA\n",
      "Dados salvos em diddy_articles.csv\n"
     ]
    },
    {
     "name": "stderr",
     "output_type": "stream",
     "text": [
      "\n"
     ]
    }
   ],
   "source": [
    "import requests\n",
    "from bs4 import BeautifulSoup\n",
    "import pandas as pd\n",
    "from tqdm import tqdm\n",
    "\n",
    "def is_relevant(paragraph):\n",
    "    text = paragraph.lower()\n",
    "    blacklist = [\n",
    "        \"copyright\", \"all rights reserved\", \"newsletter\", \"podcast\", \"bbc sounds\",\n",
    "        \"read about our approach\", \"promotional content\", \"subscribe\", \"terms of use\",\n",
    "        \"privacy policy\", \"twitter\", \"instagram\", \"facebook\"\n",
    "    ]\n",
    "    return (\n",
    "        len(paragraph.strip()) > 40\n",
    "        and \"http\" not in paragraph\n",
    "        and \"www\" not in paragraph\n",
    "        and not any(bad in text for bad in blacklist)\n",
    "    )\n",
    "\n",
    "def get_source(url):\n",
    "    # Extrai o domínio principal como fonte\n",
    "    try:\n",
    "        return url.split(\"//\")[1].split(\"/\")[0].replace(\"www.\", \"\").split(\".\")[0].upper()\n",
    "    except Exception:\n",
    "        return \"OUTRO\"\n",
    "\n",
    "def scrape_article(url):\n",
    "    headers = {\n",
    "        \"User-Agent\": \"Mozilla/5.0 (Windows NT 10.0; Win64; x64) AppleWebKit/537.36 (KHTML, like Gecko) Chrome/120.0.0.0 Safari/537.36\"\n",
    "    }\n",
    "    try:\n",
    "        response = requests.get(url, headers=headers, timeout=15)\n",
    "        response.encoding = response.apparent_encoding  # Corrige encoding\n",
    "        response.raise_for_status()\n",
    "        soup = BeautifulSoup(response.text, \"html.parser\")\n",
    "        paragraphs = soup.find_all(\"p\")\n",
    "        para_list = [\n",
    "            p.get_text(strip=True)\n",
    "            for p in paragraphs\n",
    "            if is_relevant(p.get_text(strip=True))\n",
    "        ]\n",
    "        text = \" \".join(para_list).replace(\"  \", \" \").strip()\n",
    "        fonte = get_source(url)\n",
    "        return {\n",
    "            \"fonte\": fonte,\n",
    "            \"text\": text\n",
    "        }\n",
    "    except Exception as e:\n",
    "        return {\n",
    "            \"fonte\": get_source(url),\n",
    "            \"text\": \"\"\n",
    "        }\n",
    "\n",
    "urls = [\n",
    "    \"https://www.nbcnews.com/news/us-news/jury-reaches-verdict-sean-diddy-combs-sex-trafficking-trial-rcna214785\",\n",
    "    \"https://www.abc.net.au/news/2025-07-14/sean-combs-p-diddy-conviction-what-happens-now/105522300\",\n",
    "    \"https://www.cbsnews.com/news/sean-diddy-combs-trial-verdict-jury/\",\n",
    "    \"https://www.cnn.com/2025/07/02/entertainment/recap-diddy-trial-verdict-charges\",\n",
    "    \"https://www.bbc.com/news/articles/c0qz32wzeego\",\n",
    "    \"https://www.latimes.com/california/story/2025-07-02/diddy-trial-jury-verdict\",\n",
    "    \"https://abcnews.go.com/US/Culture/sean-combs-guilty-2-5-counts-acquitted-racketeering/story?id=123019412\",\n",
    "    \"https://www.aljazeera.com/news/2025/7/2/what-is-the-partial-verdict-in-the-sean-diddy-combs\"\n",
    "]\n",
    "\n",
    "data = []\n",
    "for url in tqdm(urls, desc=\"Scraping articles\"):\n",
    "    result = scrape_article(url)\n",
    "    data.append(result)\n",
    "    if result[\"text\"]:\n",
    "        print(f\"Coletado: {result['fonte']}\")\n",
    "    else:\n",
    "        print(f\"Erro ao coletar artigo de {result['fonte']}.\")\n",
    "\n",
    "df = pd.DataFrame(data)\n",
    "df.to_csv(\"diddy_articles.csv\", sep=',', index=False, encoding=\"utf-8\")\n",
    "print(\"Dados salvos em diddy_articles.csv\")"
   ]
  }
 ],
 "metadata": {
  "kernelspec": {
   "display_name": "Python 3",
   "language": "python",
   "name": "python3"
  },
  "language_info": {
   "codemirror_mode": {
    "name": "ipython",
    "version": 3
   },
   "file_extension": ".py",
   "mimetype": "text/x-python",
   "name": "python",
   "nbconvert_exporter": "python",
   "pygments_lexer": "ipython3",
   "version": "3.13.5"
  }
 },
 "nbformat": 4,
 "nbformat_minor": 5
}
