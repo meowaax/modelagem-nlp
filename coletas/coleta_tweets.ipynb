{
 "cells": [
  {
   "cell_type": "markdown",
   "id": "62472429",
   "metadata": {},
   "source": [
    "Coleta tweets "
   ]
  },
  {
   "cell_type": "code",
   "execution_count": null,
   "id": "21957a37",
   "metadata": {},
   "outputs": [],
   "source": [
    "pip install tweepy pandas nltk vaderSentiment"
   ]
  },
  {
   "cell_type": "code",
   "execution_count": null,
   "id": "f465087f",
   "metadata": {},
   "outputs": [],
   "source": [
    "import tweepy\n",
    "\n",
    "client = tweepy.Client(bearer_token=\"AAAAAAAAAAAAAAAAAAAAAFPS2wEAAAAAcqTHXMib2XIj3SW%2F8WqxLhMyCXs%3DXsYE9hvVxqCHRAHIskaLDhjN9HcqJkhbTA9nrFw5skRKBcXQsp\",\n",
    "                       wait_on_rate_limit=True) \n"
   ]
  },
  {
   "cell_type": "code",
   "execution_count": 2,
   "id": "127c32c7",
   "metadata": {},
   "outputs": [],
   "source": [
    "tema   = \"diddy guilty\"\n",
    "query  = f'({tema}) lang:en -is:retweet' "
   ]
  },
  {
   "cell_type": "code",
   "execution_count": null,
   "id": "99b1bd16",
   "metadata": {},
   "outputs": [],
   "source": [
    "tweets = client.search_recent_tweets(\n",
    "            query=query,\n",
    "            tweet_fields=[\"created_at\",\"author_id\",\"lang\"],\n",
    "            max_results=99)         \n",
    "dado = [t.text for t in tweets.data] \n"
   ]
  },
  {
   "cell_type": "code",
   "execution_count": 4,
   "id": "6c0b0bc6",
   "metadata": {},
   "outputs": [
    {
     "data": {
      "text/plain": [
       "['@indyfor45th47th She fabricated trump  prosecution and had no problem that Diddy, an OBVIOUS ABUSER, being found not guilty of charges that were abusive to anyone with a brain. Hell yes this corrupt democrat (apple doesn’t fall too far from the tree)  should be investigated.  And jailed!!',\n",
       " \"@california3875 @LeadingReport She's in jail and Diddy did pretty much the same thing and he's going to get away with it. Well I say give him the max on the charges he was found guilty of. If he gets 20 years that's pretty much life for him !\",\n",
       " '@imjdsharp oh, and diddy was not guilty as well. \\nhappy sunday.',\n",
       " '@ksorbs If there was no list then why did Epstein SUPPOSEDLY kill himself and why is she still in jail? It’s all bullshit! Equally guilty on both sides! So much guilt that they’re now lying about it!! Epstein and Diddy sexually assaulting people and zero accountability! Disgusting. We',\n",
       " '@elonmusk Play 🤥, you guilty for knowing. Crying because you didn’t get your way. Freak like Diddy',\n",
       " \"I don't know why they would be celebrating - rich füçkers don't go to jail but poor ones go nearly every time.\\nhttps://t.co/mZGlshaVIK\",\n",
       " '@MAVERIC68078049 They keep switching from diddy to Epstein everytime one is in the public eye it’s hilarious everyone on this app is guilty af of baby killing',\n",
       " '@TaraBull808 Tell us:  \\n1. The Epstein and Diddy connections  \\n2. The true story behind the Vegas shooting  \\n3. The whereabouts of all the missing children  \\n4. Who plotted to assassinate @realDonaldTrump  \\n5. Who’s actually guilty of treason  \\n6. Who’s responsible for crimes against humanity',\n",
       " '@FanJDVance AAH\\n\\nU R VERY TRICKY!\\n\\nU SENT THE FEDS AGAINST P. DIDDY \\n\\nSO HE COULD TAKE THE FALL 4 SEX-TRAFFICING\\n\\nBUT AS GOD SAID \\n\\nTHE REPUBLICANS R THE SEX-TRAFFICERS OF 300,000 KIDS 🧒 PER YR\\n\\nWE SEE DIDDY NOT GUILTY OF THAT CRIME\\n\\nALTHOUGH VIOLENT\\n\\nSO NOW EPSTEIN FILES 📂 WILL DISAPPEAR',\n",
       " '@atensnut Well…..they found Diddy not guilty. Really?',\n",
       " '@FanJDVance That’s a bullshit question.  They need released and ANYONE on there should go to prison. Trump. Clinton. All of them.  This is what is wrong with the world today-  fuck the party - who cares if you have money (Diddy). Guilty is guilt.  Not if you have money.',\n",
       " '@MarcLobliner Diddy is not guilty and the Epstein Island was never visited by “high profile” people.',\n",
       " '@OliLondonTV Diddy not guilty so he doesn’t need to cry about his boo getting locked up.',\n",
       " '@AFpost And we didn’t really expect the corrupt U.S. judicial system to find P. Diddy guilty either ...\\nhttps://t.co/Jt5BRtDHof',\n",
       " '@RealAlexJones @realDonaldTrump …like if Diddy was found guilty, Trump would pardon him, cause that’s his friend and he went to those white parties. Trump has demonic friends.',\n",
       " \"P- Diddy wasn't guilty of trafficking , he was just transporting 🙄 Epstein didn't have a client list and nobody committed pedophilia at his island.\\nThese people must really think the American people are stupid,\",\n",
       " 'Melly rotting in prison waiting for another trial while diddy and Epstein are found not guilty is just crazy',\n",
       " '@RealAlexJones To be fair, the trial would be in D.C.  The only person who would be found guilty would be Trump, even with 0 evidence of any crime committed by him.  The cases would be Diddy 2.0.  Except Trump, that would be more like E. Jean Carroll 2.0',\n",
       " '@MelaniaTrumpo If he releases the flight logs and client list from diddy and epstein than yes .. if not hes as guilty as they are of rape and trafficking of children for facilitating it',\n",
       " \"Diddy's HUGE Legal Victory! 😲 What Happened?\\nI discuss Diddy's legal win! He was found not guilty of RICO and sex trafficking, a major victory. I  delve into the implications of the verdict and what it means. #DiddyCase #pdiddy https://t.co/aeoml0uAEh\",\n",
       " '@bennyjohnson ITS TIME TO WAKE UP. \\n\\nDiddy not guilty\\nNo epstein list\\ntik tok being censored\\nisaac kappy\\n\\nWAKE',\n",
       " '@SalMemeLord If Diddy could not be found guilty what makes us think this would have happened?',\n",
       " '@van00sa @AskPerplexity has Diddy been sentenced for his 2 guilty charges?',\n",
       " 'The whole P. Diddy trial was a sham[e] and our government knows it. Shame on them. P. Diddy is an evil dude....those who support him are just as guilty.\\n\\n#nojusticenopeace #karma #accountabilitynow https://t.co/na6vE46FuE',\n",
       " 'Literally, both Diddy &amp; Epstein were found \"Not Guilty\" in the same week... 😒',\n",
       " 'Diddy was found Not Guilty too? Trump is a fucking moron and so is anyone working under his presidency https://t.co/wvhvUydPhM',\n",
       " 'Epstein, Diddy not guilty. No victims. No list. No penalties. It’s a big club and we are not in it. \\n\\nThere were victims but no perpetrators. Makes total sense..',\n",
       " 'Sean #Diddy Combs reportedly received a standing ovation from fellow inmates upon his return to a federal jail in Brooklyn after being acquitted of sex trafficking and racketeering, according to his attorney.\\n\\nThe hip-hop mogul, 55, was found guilty only on a lesser charge, https://t.co/x2SwvOO4Ok',\n",
       " \"WHAT'S NEXT FOR DIDDY? #TheView co-hosts share their takeaways from the Sean 'Diddy' Combs trial after he was acquitted of sex trafficking and racketeering charges last week and found guilty of two prostitution charges. https://t.co/4ewt13yPC5\",\n",
       " '@MattWallace888 ⚠️So let me get this straight, there was never an epstein list, Diddy is not guilty, Epstein offed himself, tik tok is being censored september. Wake up⚠️ they are laughing at all of us',\n",
       " 'Diddy received standing ovation from fellow inmates after jury found rapper not guilty on RICO charge: lawyer https://t.co/gEPAhwkNxg #FoxNews. Celebrating thug behavior…..pathetic!',\n",
       " '@realstewpeters Preople people people, do you really believe this was going to turn out any differently than P. Diddy having his parties &amp; that rigged outcome. What makes you think only Jews are guilty of any of this jazz-Muzzz take 9yr olds, WTFFF©️🤦🏼\\u200d♀️',\n",
       " 'Last week, Diddy was cleared of his sex trafficking and racketeering charges, yet found guilty on 2 prostitution counts– a verdict stirring conversation on power and accountability. What does justice look like when fame is in the mix? \\n\\nClick to read more: https://t.co/DH0YZZ0pgn https://t.co/014Lltc65h',\n",
       " 'I guess everybody on the list lawyered up, Maxwell in jail, Diddy suddenly not guilty, Giuffre passed away recently (no more voice), so nothing can be released. Might as well say a \"releasable\" Client List doesn\\'t exist, they cited collapse of society as legal basis? https://t.co/vMHosoyi2O',\n",
       " '@FreeFalling111 @twan1021 @jimmys0461 @YourAnonCentral Yes he was, without any real evidence. Yet the people that found Trump guilty. Said Diddy was innocent with countless evidence. So really, can we admit the biased.',\n",
       " \"This will be the down fall of the @POTUS Administration &amp; the @MAGA movement. \\n1. @FBI Informant Diddy's case dropped!\\n2. Epstein's disgusting nonsense thrown under the rug like nothing happened!\\n3. @POTUS' s @DOJCrimDiv, @FBI, @CIA are just as guilty as ppl on the Epstein list!\",\n",
       " '@bigmothufacking And equally as stunned if they were expecting a guilty Diddy verdict. \\n\\nS A Mfers',\n",
       " \"What a bunch of BS. We all know that there is a very deep seeded list that IMO ties back to P. Diddy and that's why his charges are what they are now....it's all smoke and mirrors and both parties are guilty as fuck https://t.co/7s9tYZrf33\",\n",
       " '@rebalynn3234 @GuntherEagleman If they got rid of it, then that would’ve been national headlines both parties are in on this. You can’t spend it anyway. This is the biggest scam along with Diddy being not guilty in so many of the charges',\n",
       " 'Hopefully the women (and male feminists) who are upset that Diddy basically got off, realize this happened in no small part because they pushed the \"me too\" crap.\\n\\nDiddy is a disgusting criminal and should have been found guilty. Part of the reason he wasn\\'t is backlash to #metoo',\n",
       " '#RP • @steveharveyfm A federal jury reached a mixed verdict in Sean “Diddy” Combs’ trial:\\n• Not guilty of racketeering conspiracy (Count 1)\\n• Not guilty of sex trafficking by force, fraud, or coercion related to Ventura (Count 2)\\n• Guilty of transporting Cassie Ventura.... https://t.co/qmr6M9x3pJ',\n",
       " 'So Jeffery Epstein and Diddy are both “not guilty” of trafficking? In the same week?\\n\\n@IanCarrollShow something is fishy',\n",
       " 'First Diddy is found Not Guilty on all major Sex Trafficking Charges &amp; now the DOJ/FBI state there is no Epstein Client List.\\n\\nDecades of Child Abuse by Elite Perpetrators is being covered up &amp; buried in real time. https://t.co/ZZ2VlQnEKz',\n",
       " '@skepticgoat @DrewBanned They do but for some reason people caught buying these services are never held accountable cough cough Robert Kraft. Like the diddy case I foresee a private trial leading to a predictable guilty verdict of lesser a crime. To keep the public quiet and forget about it',\n",
       " 'Great time for Pedo’s and Corruption. Diddy not guilty, Epstein has no clients…🤮🤮 Y’all disgust me bro! https://t.co/TYSzORjHxJ',\n",
       " \"Sean 'Diddy' Combs has been found not guilty of sex trafficking and racketeering conspiracy in a mixed verdict.\\nHe has been found guilty of transportation to engage in prostitution.\\n#DiddyVerdict #freediddy #DiddyTrial https://t.co/ps42mrA5N8\",\n",
       " 'also another thing how was diddy found NOT guilty? when he had cabinets filled with baby oil… i don’t even own one bottle and he owns like 100????',\n",
       " \"I can't believe the media tricked me into thinking Diddy and Epstein were guilty.\\n\\nI should have learned my lesson after doubting OJ's innocence during his trial.\",\n",
       " 'Happening at the same time\\n\\nThe West: Iran, your women! Free your women...(while simultaneously bombing those women)\\n\\nAlso, the West: Diddy is not guilty.\\nWe see nothing wrong in the Epstein case https://t.co/q7FqX9UoXk',\n",
       " 'Diddy is alive and probably has a dead man switch. He most likely showed things that scared the shit out of DC and Pedowood. Not guilty, nobody goes to jail and Pam Bondi lied. She said the list was on her desk. Kash Patels’ #Aipac handler read him the act. https://t.co/2GO9MOSqaD',\n",
       " 'BREAKING: Sean “Diddy” Combs returned to jail to a standing ovation from fellow inmates after being found not guilty of sex trafficking charges.',\n",
       " 'What is going on right now. Diddy not found guilty. Epstein had no client list. We are being played and lied.\\nWake up to reality',\n",
       " 'Diddy received standing ovation from fellow inmates after jury found rapper not guilty on RICO charge: lawyer https://t.co/fYYbFOy4HY😡😡😤😡😤😡😤😤😡🤮🤮😡😤😡 fuck you Diddy burn in HELL you fucking human trafficking, fucking pedophile son of a bitch burn in HELL you fucking',\n",
       " '@TRUMP_ARMY17 We already saw the movie.. \\n\\nDiddy not guilty...\\n\\nEpstein list - erased...',\n",
       " 'the government and \"justice system\" do not exist to protect abuse victims. it exists to help abusers.\\n\\ndiddy being found \"not guilty\" of his biggest crimes despite the evidence.\\n\\nand there suddenly being \"no epstein client list\" despite confessions of the opposite.\\n\\nit\\'s sick.',\n",
       " 'Diddy received standing ovation from fellow inmates after jury found rapper not guilty on RICO charge: lawyer https://t.co/378jAGxeVA #FoxNews \\n\\nPretty much says it all.\\n\\nShame on EVERY SINGLE JUROR!',\n",
       " \"@EndWokeness Tell us:\\n1. The Epstein/Diddy lists\\n2. The REAL story of the Vegas shooting\\n3. Where are all the missing kids?\\n4. Who arranged to have @realDonaldTrump killed?\\n5. Who's guilty of treason?\\n6. Who's guilty of crimes against humanity?\\n\\nDid I forget anything?\",\n",
       " 'So diddy wasn’t found guilty, and Epstein basically was all a lie. I don’t think anyone is buying into this and what’s happening lmao.',\n",
       " '@ACTBrigitte Neither does Trump but hey he’s the savior because he’s getting rid of the illegals right ? Even tho now under trump Diddy is not guilty and the Epstein list disappeared why? Because the dems and the republicans are on that list together ! That’s why neither party released it',\n",
       " '@elonmusk Epstein was probably never guilty. You know just like P Diddy completely innocent.',\n",
       " '@big_croner @youngthug If Diddy was a snitch he would’ve been found guilty on all charges.',\n",
       " 'After intense deliberations, the jury returned a partial verdict, finding Diddy not guilty on the most serious charges of racketeering and sex trafficking — but guilty on two counts related to transporting individuals for prostitution.',\n",
       " '@elonmusk There is no point in doing arrests (although I think they were already done) until swamp cleaned and cleansing enema performed. If Diddy got off then swamp still there.  Any arrests would be found not guilty and can’t re- try. Be patient.',\n",
       " '🥴BREAKING: Sean “Diddy” Combs returned to jail to a standing ovation from fellow inmates after being found not guilty of sex trafficking charges.',\n",
       " \"@MsTr3ss @JustElliot2 Diddy was being tried on his own. Epstein's accomplice was found guilty using the same victim testimonies that would be used in the Epstein trial.\\n\\nDo you understand logic?\",\n",
       " 'So.. Diddy’s not guilty &amp; Epstein never had a client list. \\n\\nInteresting turn of events.',\n",
       " \"@Mark_Bush @letitgrow_eth @Fatima_Khatun01 @elonmusk Never said it did,but the FACTS are just what I stated. So since Obama has pictures with Diddy at parties, does that mean Obama is a pedo? If there was evidence of DJT guilty the Biden DOJ woulda threw his ass under the jail. You have no proof. Until then, it's conspiracy period\",\n",
       " 'Diddy received standing ovation from fellow inmates after jury found rapper not guilty on RICO charge: lawyer https://t.co/TFw5QRl3BZ',\n",
       " \"@glennbeck don't forget in the last week Diddy was found not guilty too.\\nThere are people in powers bigger then those we see unfortunately and they don't want us knowing.\",\n",
       " \"@bennyjohnson Diddy said at one point in time that there are high-level politicians involved. Everyone in Trump's administration claims there is no list, just the same as Diddy was found not guilty. How much did all pay to cover up and lie? How much did Diddy pay the jurors Trump's hush money\",\n",
       " '@keulive Sean \"Diddy\" Combs being found guilty on two counts in his sex trafficking trial, there have been some instances of people expressing support and cheering for him.  Well ain’t that just idiocy in full force.  \\n\\nI wonder how many of those malcontents would be cheering if their',\n",
       " '@elonmusk Let see what will happen when P Diddy will be out of prison without charges. Sounds very much like European countries where not the guilty are arested',\n",
       " 'BREAKING: Sean “Diddy” Combs returned to jail to a standing ovation from fellow inmates after being found not guilty of sex trafficking charges.\\n\\nJoin &amp; Share » The General',\n",
       " 'Why are y’all still on this narrative? Diddy has been found not guilty on the terrible charges. Stop trying to associate jay with him geez 🙄 https://t.co/b5hqaSaqVE',\n",
       " 'Aye man ain’t this the same shit Diddy was found guilty of? LMAO https://t.co/3mYPGLA9w2',\n",
       " 'Within a week or so, both diddy and Epstein are found not guilty of child trafficking &amp; Epstein had no client list, they expect everyone to believe that, the satanic corruption runs very deep and in very high positions of power. https://t.co/dBm4CSQxPd',\n",
       " 'Diddy received standing ovation from fellow inmates after jury found rapper not guilty on RICO charge: lawyer https://t.co/rVDeB59f5z',\n",
       " \"@RealMattCouch Epstein was in prison. Diddy is still guilty of crimes and has not been released. And in the USA, we do have a burden of proof. Key word is BURDEN. But that's one of the costs of freedom.\",\n",
       " '@elonmusk The same Elon musk who said diddy was guilty of child trafficking his here spitting shit. I think the guy needs his head examined.',\n",
       " 'Diddy Denied Bail. Kohberger Guilty. Did he change his appearance, and can he profit? | Emily Show\\nTHE DOCKET\\n0:00 Welcome\\n1:37 Intro\\n1:49 Diddy\\n13:24 Bryan Kohberger\\nhttps://t.co/fE6Lm8plwi',\n",
       " '[Video] This morning a jury in the federal trial against Sean “Diddy” Combs found the hip-hop mogul not guilty of sex trafficking and racketeering, the most serious charges against him. The jury found him guilty of violating the Mann A... #Sextrafficking\\nhttps://t.co/M7ryfwFD35',\n",
       " 'Im willing to bet black people will constantly remind each other that Diddy actually did that shit and shoulda been found guilty but will let Jeffrey Epstein fade into obscurity. Ill bet my life',\n",
       " 'Diddy and Epstein not guilty in the same week. Tax dollars and true justice at work. What a fucking joke….',\n",
       " 'DIDDY NOT GUILTY \\nEPSTEIN CLIENTS NOT GUILTY\\n\\nDISGUSTING',\n",
       " 'With Diddy found Not Guilty &amp; No Epstein Client List, you know that the US is not a sovereign country.\\n😢🇺🇸😢Make America Last Again😢🇺🇸😢 https://t.co/rdSVrURmFh',\n",
       " 'First Diddy now this? This is insane, there was a legitimate list and people were exposed. Ghislaine Maxwell was found guilty on this?! Absolutely disgusting and disheartening. https://t.co/0otoJFduZF',\n",
       " 'First, Diddy is found not guilty on all major trafficking charges. Now, the DOJ and FBI claim there is no Epstein client list.\\n\\nDecades of child abuse by powerful elites are being systematically covered up and erased ….. right before our eyes. https://t.co/3vOcwKduVy',\n",
       " \"@catturd2 The clients are made up of blackmailed individuals. The system that created, funded, encouraged, and propped up both Epstein and Diddy's empires are guilty of treason. https://t.co/hnUG4xvpv1\",\n",
       " 'A new and improved Alcatraz, Diddy found not guilty and now a big sigh of relief, there is no Epstein list! Man, America really is becoming great again.',\n",
       " '@Spiro_Ghost Diddy was found guilty on 2 charges. He is still in prison, Lets NOT forget that.',\n",
       " '@mitchellvii Total cover up!! They found something so bad it would take down our government! \\nBut if nothing happened they should release Ghislane! If this is their story, then why is she being punished? Also it’s actually better than a million dollar Diddy trial where no one is found guilty!',\n",
       " '@BuckSexton If the truth comes out, just like the sham Diddy trial, then everyone in Washington and Hollywood would be in prison. Both sides are guilty. Disgusting!',\n",
       " 'so diddy was found not guilty of sex trafficking and epstein ‘has no client list’ and was confirmed to have committed suicide by the fbi and doj…… uh huh…..right.',\n",
       " 'Diddy received standing ovation from fellow inmates after jury found rapper not guilty on RICO charge: lawyer: \\nSean \"Diddy\" Combs reportedly received a standing ovation from his fellow inmates after being acquitted on the most serious charges brought ag… https://t.co/ufhZ43jrXj',\n",
       " '@innercitypress Cassie is guilty of the same prostitution charges that Diddy commited. She literally arranged freak offs for her own enjoyment when Diddy was not even there. She gets $30 million. Diddy sits in jail.',\n",
       " '@MilaLovesJoe This should piss you off, 500k kids go missing in America every year and the DOJ just backtracked and said Jeffery Epstein didn’t have a client list a week after Diddy was found not guilty on every major sex crime he was charged with.\\n\\nWhoever set this up needs to go to prison.',\n",
       " '@ThePatriotOasis \"Not guilty\" doesn\\'t equal = \"innocent\" and Diddy was convicted on the lesser charges and remains in Jail awaiting sentencing.',\n",
       " 'diddy and epstein being found \"not guilty\" of trafficking in the same week is not suspicious at all 😃 https://t.co/weY39gDRC4']"
      ]
     },
     "execution_count": 4,
     "metadata": {},
     "output_type": "execute_result"
    }
   ],
   "source": [
    "dado"
   ]
  },
  {
   "cell_type": "code",
   "execution_count": 11,
   "id": "464a5186",
   "metadata": {},
   "outputs": [
    {
     "data": {
      "text/plain": [
       "['@MarcLobliner Diddy is not guilty and the Epstein Island was never visited by “high profile” people.',\n",
       " '@OliLondonTV Diddy not guilty so he doesn’t need to cry about his boo getting locked up.',\n",
       " '@AFpost And we didn’t really expect the corrupt U.S. judicial system to find P. Diddy guilty either ...\\nhttps://t.co/Jt5BRtDHof',\n",
       " '@RealAlexJones @realDonaldTrump …like if Diddy was found guilty, Trump would pardon him, cause that’s his friend and he went to those white parties. Trump has demonic friends.',\n",
       " \"P- Diddy wasn't guilty of trafficking , he was just transporting 🙄 Epstein didn't have a client list and nobody committed pedophilia at his island.\\nThese people must really think the American people are stupid,\",\n",
       " 'Melly rotting in prison waiting for another trial while diddy and Epstein are found not guilty is just crazy',\n",
       " '@RealAlexJones To be fair, the trial would be in D.C.  The only person who would be found guilty would be Trump, even with 0 evidence of any crime committed by him.  The cases would be Diddy 2.0.  Except Trump, that would be more like E. Jean Carroll 2.0',\n",
       " '@MelaniaTrumpo If he releases the flight logs and client list from diddy and epstein than yes .. if not hes as guilty as they are of rape and trafficking of children for facilitating it',\n",
       " \"Diddy's HUGE Legal Victory! 😲 What Happened?\\nI discuss Diddy's legal win! He was found not guilty of RICO and sex trafficking, a major victory. I  delve into the implications of the verdict and what it means. #DiddyCase #pdiddy https://t.co/aeoml0uAEh\",\n",
       " '@bennyjohnson ITS TIME TO WAKE UP. \\n\\nDiddy not guilty\\nNo epstein list\\ntik tok being censored\\nisaac kappy\\n\\nWAKE']"
      ]
     },
     "execution_count": 11,
     "metadata": {},
     "output_type": "execute_result"
    }
   ],
   "source": [
    "dados"
   ]
  },
  {
   "cell_type": "markdown",
   "id": "44c4ef8a",
   "metadata": {},
   "source": [
    "Filtros com Regex"
   ]
  },
  {
   "cell_type": "code",
   "execution_count": null,
   "id": "04ff68dd",
   "metadata": {},
   "outputs": [],
   "source": [
    "import re, unicodedata\n",
    "\n",
    "def limpa(txt):\n",
    "    txt = re.sub(r\"http\\S+\", \" \", txt)           # links\n",
    "    txt = re.sub(r\"@[A-Za-z0-9_]+\", \" \", txt)    # @\n",
    "    txt = re.sub(r\"#\", \" \", txt)                 # remove # mas mantem palavra\n",
    "    txt = re.sub(r\"\\s+\", \" \", txt)               # espaços duplicados\n",
    "    txt = unicodedata.normalize(\"NFKC\", txt)     # acentos/unicodes\n",
    "    return txt.strip()\n",
    "\n",
    "dados_limpos = [limpa(t) for t in dado]\n"
   ]
  },
  {
   "cell_type": "code",
   "execution_count": 6,
   "id": "e516290b",
   "metadata": {},
   "outputs": [
    {
     "data": {
      "text/plain": [
       "['She fabricated trump prosecution and had no problem that Diddy, an OBVIOUS ABUSER, being found not guilty of charges that were abusive to anyone with a brain. Hell yes this corrupt democrat (apple doesn’t fall too far from the tree) should be investigated. And jailed!!',\n",
       " \"She's in jail and Diddy did pretty much the same thing and he's going to get away with it. Well I say give him the max on the charges he was found guilty of. If he gets 20 years that's pretty much life for him !\",\n",
       " 'oh, and diddy was not guilty as well. happy sunday.',\n",
       " 'If there was no list then why did Epstein SUPPOSEDLY kill himself and why is she still in jail? It’s all bullshit! Equally guilty on both sides! So much guilt that they’re now lying about it!! Epstein and Diddy sexually assaulting people and zero accountability! Disgusting. We',\n",
       " 'Play 🤥, you guilty for knowing. Crying because you didn’t get your way. Freak like Diddy',\n",
       " \"I don't know why they would be celebrating - rich füçkers don't go to jail but poor ones go nearly every time.\",\n",
       " 'They keep switching from diddy to Epstein everytime one is in the public eye it’s hilarious everyone on this app is guilty af of baby killing',\n",
       " 'Tell us: 1. The Epstein and Diddy connections 2. The true story behind the Vegas shooting 3. The whereabouts of all the missing children 4. Who plotted to assassinate 5. Who’s actually guilty of treason 6. Who’s responsible for crimes against humanity',\n",
       " 'AAH U R VERY TRICKY! U SENT THE FEDS AGAINST P. DIDDY SO HE COULD TAKE THE FALL 4 SEX-TRAFFICING BUT AS GOD SAID THE REPUBLICANS R THE SEX-TRAFFICERS OF 300,000 KIDS 🧒 PER YR WE SEE DIDDY NOT GUILTY OF THAT CRIME ALTHOUGH VIOLENT SO NOW EPSTEIN FILES 📂 WILL DISAPPEAR',\n",
       " 'Well.....they found Diddy not guilty. Really?',\n",
       " 'That’s a bullshit question. They need released and ANYONE on there should go to prison. Trump. Clinton. All of them. This is what is wrong with the world today- fuck the party - who cares if you have money (Diddy). Guilty is guilt. Not if you have money.',\n",
       " 'Diddy is not guilty and the Epstein Island was never visited by “high profile” people.',\n",
       " 'Diddy not guilty so he doesn’t need to cry about his boo getting locked up.',\n",
       " 'And we didn’t really expect the corrupt U.S. judicial system to find P. Diddy guilty either ...',\n",
       " '...like if Diddy was found guilty, Trump would pardon him, cause that’s his friend and he went to those white parties. Trump has demonic friends.',\n",
       " \"P- Diddy wasn't guilty of trafficking , he was just transporting 🙄 Epstein didn't have a client list and nobody committed pedophilia at his island. These people must really think the American people are stupid,\",\n",
       " 'Melly rotting in prison waiting for another trial while diddy and Epstein are found not guilty is just crazy',\n",
       " 'To be fair, the trial would be in D.C. The only person who would be found guilty would be Trump, even with 0 evidence of any crime committed by him. The cases would be Diddy 2.0. Except Trump, that would be more like E. Jean Carroll 2.0',\n",
       " 'If he releases the flight logs and client list from diddy and epstein than yes .. if not hes as guilty as they are of rape and trafficking of children for facilitating it',\n",
       " \"Diddy's HUGE Legal Victory! 😲 What Happened? I discuss Diddy's legal win! He was found not guilty of RICO and sex trafficking, a major victory. I delve into the implications of the verdict and what it means. DiddyCase pdiddy\",\n",
       " 'ITS TIME TO WAKE UP. Diddy not guilty No epstein list tik tok being censored isaac kappy WAKE',\n",
       " 'If Diddy could not be found guilty what makes us think this would have happened?',\n",
       " 'has Diddy been sentenced for his 2 guilty charges?',\n",
       " 'The whole P. Diddy trial was a sham[e] and our government knows it. Shame on them. P. Diddy is an evil dude....those who support him are just as guilty. nojusticenopeace karma accountabilitynow',\n",
       " 'Literally, both Diddy &amp; Epstein were found \"Not Guilty\" in the same week... 😒',\n",
       " 'Diddy was found Not Guilty too? Trump is a fucking moron and so is anyone working under his presidency',\n",
       " 'Epstein, Diddy not guilty. No victims. No list. No penalties. It’s a big club and we are not in it. There were victims but no perpetrators. Makes total sense..',\n",
       " 'Sean Diddy Combs reportedly received a standing ovation from fellow inmates upon his return to a federal jail in Brooklyn after being acquitted of sex trafficking and racketeering, according to his attorney. The hip-hop mogul, 55, was found guilty only on a lesser charge,',\n",
       " \"WHAT'S NEXT FOR DIDDY? TheView co-hosts share their takeaways from the Sean 'Diddy' Combs trial after he was acquitted of sex trafficking and racketeering charges last week and found guilty of two prostitution charges.\",\n",
       " '⚠️So let me get this straight, there was never an epstein list, Diddy is not guilty, Epstein offed himself, tik tok is being censored september. Wake up⚠️ they are laughing at all of us',\n",
       " 'Diddy received standing ovation from fellow inmates after jury found rapper not guilty on RICO charge: lawyer FoxNews. Celebrating thug behavior.....pathetic!',\n",
       " 'Preople people people, do you really believe this was going to turn out any differently than P. Diddy having his parties &amp; that rigged outcome. What makes you think only Jews are guilty of any of this jazz-Muzzz take 9yr olds, WTFFF©️🤦🏼\\u200d♀️',\n",
       " 'Last week, Diddy was cleared of his sex trafficking and racketeering charges, yet found guilty on 2 prostitution counts– a verdict stirring conversation on power and accountability. What does justice look like when fame is in the mix? Click to read more:',\n",
       " 'I guess everybody on the list lawyered up, Maxwell in jail, Diddy suddenly not guilty, Giuffre passed away recently (no more voice), so nothing can be released. Might as well say a \"releasable\" Client List doesn\\'t exist, they cited collapse of society as legal basis?',\n",
       " 'Yes he was, without any real evidence. Yet the people that found Trump guilty. Said Diddy was innocent with countless evidence. So really, can we admit the biased.',\n",
       " \"This will be the down fall of the Administration &amp; the movement. 1. Informant Diddy's case dropped! 2. Epstein's disgusting nonsense thrown under the rug like nothing happened! 3. ' s , , are just as guilty as ppl on the Epstein list!\",\n",
       " 'And equally as stunned if they were expecting a guilty Diddy verdict. S A Mfers',\n",
       " \"What a bunch of BS. We all know that there is a very deep seeded list that IMO ties back to P. Diddy and that's why his charges are what they are now....it's all smoke and mirrors and both parties are guilty as fuck\",\n",
       " 'If they got rid of it, then that would’ve been national headlines both parties are in on this. You can’t spend it anyway. This is the biggest scam along with Diddy being not guilty in so many of the charges',\n",
       " 'Hopefully the women (and male feminists) who are upset that Diddy basically got off, realize this happened in no small part because they pushed the \"me too\" crap. Diddy is a disgusting criminal and should have been found guilty. Part of the reason he wasn\\'t is backlash to metoo',\n",
       " 'RP • A federal jury reached a mixed verdict in Sean “Diddy” Combs’ trial: • Not guilty of racketeering conspiracy (Count 1) • Not guilty of sex trafficking by force, fraud, or coercion related to Ventura (Count 2) • Guilty of transporting Cassie Ventura....',\n",
       " 'So Jeffery Epstein and Diddy are both “not guilty” of trafficking? In the same week? something is fishy',\n",
       " 'First Diddy is found Not Guilty on all major Sex Trafficking Charges &amp; now the DOJ/FBI state there is no Epstein Client List. Decades of Child Abuse by Elite Perpetrators is being covered up &amp; buried in real time.',\n",
       " 'They do but for some reason people caught buying these services are never held accountable cough cough Robert Kraft. Like the diddy case I foresee a private trial leading to a predictable guilty verdict of lesser a crime. To keep the public quiet and forget about it',\n",
       " 'Great time for Pedo’s and Corruption. Diddy not guilty, Epstein has no clients...🤮🤮 Y’all disgust me bro!',\n",
       " \"Sean 'Diddy' Combs has been found not guilty of sex trafficking and racketeering conspiracy in a mixed verdict. He has been found guilty of transportation to engage in prostitution. DiddyVerdict freediddy DiddyTrial\",\n",
       " 'also another thing how was diddy found NOT guilty? when he had cabinets filled with baby oil... i don’t even own one bottle and he owns like 100????',\n",
       " \"I can't believe the media tricked me into thinking Diddy and Epstein were guilty. I should have learned my lesson after doubting OJ's innocence during his trial.\",\n",
       " 'Happening at the same time The West: Iran, your women! Free your women...(while simultaneously bombing those women) Also, the West: Diddy is not guilty. We see nothing wrong in the Epstein case',\n",
       " 'Diddy is alive and probably has a dead man switch. He most likely showed things that scared the shit out of DC and Pedowood. Not guilty, nobody goes to jail and Pam Bondi lied. She said the list was on her desk. Kash Patels’ Aipac handler read him the act.',\n",
       " 'BREAKING: Sean “Diddy” Combs returned to jail to a standing ovation from fellow inmates after being found not guilty of sex trafficking charges.',\n",
       " 'What is going on right now. Diddy not found guilty. Epstein had no client list. We are being played and lied. Wake up to reality',\n",
       " 'Diddy received standing ovation from fellow inmates after jury found rapper not guilty on RICO charge: lawyer fuck you Diddy burn in HELL you fucking human trafficking, fucking pedophile son of a bitch burn in HELL you fucking',\n",
       " 'We already saw the movie.. Diddy not guilty... Epstein list - erased...',\n",
       " 'the government and \"justice system\" do not exist to protect abuse victims. it exists to help abusers. diddy being found \"not guilty\" of his biggest crimes despite the evidence. and there suddenly being \"no epstein client list\" despite confessions of the opposite. it\\'s sick.',\n",
       " 'Diddy received standing ovation from fellow inmates after jury found rapper not guilty on RICO charge: lawyer FoxNews Pretty much says it all. Shame on EVERY SINGLE JUROR!',\n",
       " \"Tell us: 1. The Epstein/Diddy lists 2. The REAL story of the Vegas shooting 3. Where are all the missing kids? 4. Who arranged to have killed? 5. Who's guilty of treason? 6. Who's guilty of crimes against humanity? Did I forget anything?\",\n",
       " 'So diddy wasn’t found guilty, and Epstein basically was all a lie. I don’t think anyone is buying into this and what’s happening lmao.',\n",
       " 'Neither does Trump but hey he’s the savior because he’s getting rid of the illegals right ? Even tho now under trump Diddy is not guilty and the Epstein list disappeared why? Because the dems and the republicans are on that list together ! That’s why neither party released it',\n",
       " 'Epstein was probably never guilty. You know just like P Diddy completely innocent.',\n",
       " 'If Diddy was a snitch he would’ve been found guilty on all charges.',\n",
       " 'After intense deliberations, the jury returned a partial verdict, finding Diddy not guilty on the most serious charges of racketeering and sex trafficking — but guilty on two counts related to transporting individuals for prostitution.',\n",
       " 'There is no point in doing arrests (although I think they were already done) until swamp cleaned and cleansing enema performed. If Diddy got off then swamp still there. Any arrests would be found not guilty and can’t re- try. Be patient.',\n",
       " '🥴BREAKING: Sean “Diddy” Combs returned to jail to a standing ovation from fellow inmates after being found not guilty of sex trafficking charges.',\n",
       " \"Diddy was being tried on his own. Epstein's accomplice was found guilty using the same victim testimonies that would be used in the Epstein trial. Do you understand logic?\",\n",
       " 'So.. Diddy’s not guilty &amp; Epstein never had a client list. Interesting turn of events.',\n",
       " \"Never said it did,but the FACTS are just what I stated. So since Obama has pictures with Diddy at parties, does that mean Obama is a pedo? If there was evidence of DJT guilty the Biden DOJ woulda threw his ass under the jail. You have no proof. Until then, it's conspiracy period\",\n",
       " 'Diddy received standing ovation from fellow inmates after jury found rapper not guilty on RICO charge: lawyer',\n",
       " \"don't forget in the last week Diddy was found not guilty too. There are people in powers bigger then those we see unfortunately and they don't want us knowing.\",\n",
       " \"Diddy said at one point in time that there are high-level politicians involved. Everyone in Trump's administration claims there is no list, just the same as Diddy was found not guilty. How much did all pay to cover up and lie? How much did Diddy pay the jurors Trump's hush money\",\n",
       " 'Sean \"Diddy\" Combs being found guilty on two counts in his sex trafficking trial, there have been some instances of people expressing support and cheering for him. Well ain’t that just idiocy in full force. I wonder how many of those malcontents would be cheering if their',\n",
       " 'Let see what will happen when P Diddy will be out of prison without charges. Sounds very much like European countries where not the guilty are arested',\n",
       " 'BREAKING: Sean “Diddy” Combs returned to jail to a standing ovation from fellow inmates after being found not guilty of sex trafficking charges. Join &amp; Share » The General',\n",
       " 'Why are y’all still on this narrative? Diddy has been found not guilty on the terrible charges. Stop trying to associate jay with him geez 🙄',\n",
       " 'Aye man ain’t this the same shit Diddy was found guilty of? LMAO',\n",
       " 'Within a week or so, both diddy and Epstein are found not guilty of child trafficking &amp; Epstein had no client list, they expect everyone to believe that, the satanic corruption runs very deep and in very high positions of power.',\n",
       " 'Diddy received standing ovation from fellow inmates after jury found rapper not guilty on RICO charge: lawyer',\n",
       " \"Epstein was in prison. Diddy is still guilty of crimes and has not been released. And in the USA, we do have a burden of proof. Key word is BURDEN. But that's one of the costs of freedom.\",\n",
       " 'The same Elon musk who said diddy was guilty of child trafficking his here spitting shit. I think the guy needs his head examined.',\n",
       " 'Diddy Denied Bail. Kohberger Guilty. Did he change his appearance, and can he profit? | Emily Show THE DOCKET 0:00 Welcome 1:37 Intro 1:49 Diddy 13:24 Bryan Kohberger',\n",
       " '[Video] This morning a jury in the federal trial against Sean “Diddy” Combs found the hip-hop mogul not guilty of sex trafficking and racketeering, the most serious charges against him. The jury found him guilty of violating the Mann A... Sextrafficking',\n",
       " 'Im willing to bet black people will constantly remind each other that Diddy actually did that shit and shoulda been found guilty but will let Jeffrey Epstein fade into obscurity. Ill bet my life',\n",
       " 'Diddy and Epstein not guilty in the same week. Tax dollars and true justice at work. What a fucking joke....',\n",
       " 'DIDDY NOT GUILTY EPSTEIN CLIENTS NOT GUILTY DISGUSTING',\n",
       " 'With Diddy found Not Guilty &amp; No Epstein Client List, you know that the US is not a sovereign country. 😢🇺🇸😢Make America Last Again😢🇺🇸😢',\n",
       " 'First Diddy now this? This is insane, there was a legitimate list and people were exposed. Ghislaine Maxwell was found guilty on this?! Absolutely disgusting and disheartening.',\n",
       " 'First, Diddy is found not guilty on all major trafficking charges. Now, the DOJ and FBI claim there is no Epstein client list. Decades of child abuse by powerful elites are being systematically covered up and erased ..... right before our eyes.',\n",
       " \"The clients are made up of blackmailed individuals. The system that created, funded, encouraged, and propped up both Epstein and Diddy's empires are guilty of treason.\",\n",
       " 'A new and improved Alcatraz, Diddy found not guilty and now a big sigh of relief, there is no Epstein list! Man, America really is becoming great again.',\n",
       " 'Diddy was found guilty on 2 charges. He is still in prison, Lets NOT forget that.',\n",
       " 'Total cover up!! They found something so bad it would take down our government! But if nothing happened they should release Ghislane! If this is their story, then why is she being punished? Also it’s actually better than a million dollar Diddy trial where no one is found guilty!',\n",
       " 'If the truth comes out, just like the sham Diddy trial, then everyone in Washington and Hollywood would be in prison. Both sides are guilty. Disgusting!',\n",
       " 'so diddy was found not guilty of sex trafficking and epstein ‘has no client list’ and was confirmed to have committed suicide by the fbi and doj...... uh huh.....right.',\n",
       " 'Diddy received standing ovation from fellow inmates after jury found rapper not guilty on RICO charge: lawyer: Sean \"Diddy\" Combs reportedly received a standing ovation from his fellow inmates after being acquitted on the most serious charges brought ag...',\n",
       " 'Cassie is guilty of the same prostitution charges that Diddy commited. She literally arranged freak offs for her own enjoyment when Diddy was not even there. She gets $30 million. Diddy sits in jail.',\n",
       " 'This should piss you off, 500k kids go missing in America every year and the DOJ just backtracked and said Jeffery Epstein didn’t have a client list a week after Diddy was found not guilty on every major sex crime he was charged with. Whoever set this up needs to go to prison.',\n",
       " '\"Not guilty\" doesn\\'t equal = \"innocent\" and Diddy was convicted on the lesser charges and remains in Jail awaiting sentencing.',\n",
       " 'diddy and epstein being found \"not guilty\" of trafficking in the same week is not suspicious at all 😃']"
      ]
     },
     "execution_count": 6,
     "metadata": {},
     "output_type": "execute_result"
    }
   ],
   "source": [
    "dados_limpos"
   ]
  }
 ],
 "metadata": {
  "kernelspec": {
   "display_name": "Python 3",
   "language": "python",
   "name": "python3"
  },
  "language_info": {
   "codemirror_mode": {
    "name": "ipython",
    "version": 3
   },
   "file_extension": ".py",
   "mimetype": "text/x-python",
   "name": "python",
   "nbconvert_exporter": "python",
   "pygments_lexer": "ipython3",
   "version": "3.12.0"
  }
 },
 "nbformat": 4,
 "nbformat_minor": 5
}
